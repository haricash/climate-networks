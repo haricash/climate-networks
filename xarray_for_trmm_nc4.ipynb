{
  "nbformat": 4,
  "nbformat_minor": 0,
  "metadata": {
    "colab": {
      "name": "xarray-for-trmm-nc4.ipynb",
      "provenance": [],
      "mount_file_id": "1Jzz5zUkVfvGqoUP7Y2WLRX89m1i3AAA7",
      "authorship_tag": "ABX9TyO6wL4SLaUXMt3OBnGH48pT",
      "include_colab_link": true
    },
    "kernelspec": {
      "name": "python3",
      "display_name": "Python 3"
    },
    "language_info": {
      "name": "python"
    }
  },
  "cells": [
    {
      "cell_type": "markdown",
      "metadata": {
        "id": "view-in-github",
        "colab_type": "text"
      },
      "source": [
        "<a href=\"https://colab.research.google.com/github/haricash/climate-networks/blob/main/xarray_for_trmm_nc4.ipynb\" target=\"_parent\"><img src=\"https://colab.research.google.com/assets/colab-badge.svg\" alt=\"Open In Colab\"/></a>"
      ]
    },
    {
      "cell_type": "markdown",
      "source": [
        "# A beginners notebook for studying nc4 data with `xarray`\n",
        "## Work as a part of my Jan 2022 Sem Project\n",
        "Reference link for `xarray` : \n",
        "\n",
        "[1] https://towardsdatascience.com/handling-netcdf-files-using-xarray-for-absolute-beginners-111a8ab4463f\n",
        "\n",
        "[2] https://www.earthdatascience.org/courses/use-data-open-source-python/hierarchical-data-formats-hdf/use-netcdf-in-python-xarray/\n",
        "\n",
        "An interesting link I will look into later (might be of use to the others)\n",
        "[3] https://climateestimate.net/content/getting-started.html#"
      ],
      "metadata": {
        "id": "KXctM5CAlxFG"
      }
    },
    {
      "cell_type": "markdown",
      "source": [
        "### Important imports"
      ],
      "metadata": {
        "id": "nI5MSScHlXxA"
      }
    },
    {
      "cell_type": "code",
      "execution_count": null,
      "metadata": {
        "id": "sS2ZLKIUcwU9"
      },
      "outputs": [],
      "source": [
        "import numpy as np\n",
        "import xarray as xr"
      ]
    },
    {
      "cell_type": "code",
      "source": [
        "import matplotlib.pyplot as plt"
      ],
      "metadata": {
        "id": "Jdfa6PGdset-"
      },
      "execution_count": null,
      "outputs": []
    },
    {
      "cell_type": "markdown",
      "source": [
        "### Loading and opening data from the drive"
      ],
      "metadata": {
        "id": "nzJvnxcclbku"
      }
    },
    {
      "cell_type": "code",
      "source": [
        "PATH = '/content/drive/MyDrive/network_project_data/TRMM-ORL-data-to-share/TRMM-rainfall-1998-2018/Copy of 3B42_Daily_*_10S-40N--60E-100E.nc4'"
      ],
      "metadata": {
        "id": "8x37onyMiZin"
      },
      "execution_count": null,
      "outputs": []
    },
    {
      "cell_type": "code",
      "source": [
        "ds = xr.open_mfdataset(PATH)"
      ],
      "metadata": {
        "id": "MEJkSEgLjVkD"
      },
      "execution_count": null,
      "outputs": []
    },
    {
      "cell_type": "markdown",
      "source": [
        "### Different attributes of the data that one can view using `xarray`"
      ],
      "metadata": {
        "id": "GYsYe3Iwlimw"
      }
    },
    {
      "cell_type": "code",
      "source": [
        "ds.coords"
      ],
      "metadata": {
        "colab": {
          "base_uri": "https://localhost:8080/"
        },
        "id": "NJBef0OrjsfA",
        "outputId": "0ff0ffbe-32a5-443d-99a5-9cc6d239e1c3"
      },
      "execution_count": null,
      "outputs": [
        {
          "output_type": "execute_result",
          "data": {
            "text/plain": [
              "Coordinates:\n",
              "  * time     (time) datetime64[ns] 1998-01-01 1998-01-02 ... 2018-12-31\n",
              "  * lon      (lon) float32 60.12 60.38 60.62 60.88 ... 99.38 99.62 99.88 100.1\n",
              "  * lat      (lat) float32 -10.12 -9.875 -9.625 -9.375 ... 39.38 39.62 39.88"
            ]
          },
          "metadata": {},
          "execution_count": 42
        }
      ]
    },
    {
      "cell_type": "code",
      "source": [
        "ds.values"
      ],
      "metadata": {
        "colab": {
          "base_uri": "https://localhost:8080/"
        },
        "id": "oI4w7n5akJbB",
        "outputId": "dda2b673-ec80-438a-8964-34d3aac9f1be"
      },
      "execution_count": null,
      "outputs": [
        {
          "output_type": "execute_result",
          "data": {
            "text/plain": [
              "<bound method Mapping.values of <xarray.Dataset>\n",
              "Dimensions:            (lat: 201, lon: 161, time: 7670)\n",
              "Coordinates:\n",
              "  * time               (time) datetime64[ns] 1998-01-01 ... 2018-12-31\n",
              "  * lon                (lon) float32 60.12 60.38 60.62 ... 99.62 99.88 100.1\n",
              "  * lat                (lat) float32 -10.12 -9.875 -9.625 ... 39.38 39.62 39.88\n",
              "Data variables:\n",
              "    precipitation      (time, lon, lat) float32 dask.array<chunksize=(365, 161, 201), meta=np.ndarray>\n",
              "    precipitation_cnt  (time, lon, lat) int16 dask.array<chunksize=(365, 161, 201), meta=np.ndarray>\n",
              "    randomError        (time, lon, lat) float32 dask.array<chunksize=(365, 161, 201), meta=np.ndarray>\n",
              "    randomError_cnt    (time, lon, lat) int16 dask.array<chunksize=(365, 161, 201), meta=np.ndarray>\n",
              "Attributes:\n",
              "    BeginDate:       1998-01-01\n",
              "    BeginTime:       01:30:00.000Z\n",
              "    EndDate:         1998-01-02\n",
              "    EndTime:         01:29:59.999Z\n",
              "    FileHeader:      StartGranuleDateTime=1998-01-01T01:30:00.000Z;\\012StopGr...\n",
              "    InputPointer:    3B42.19980101.03.7.HDF;3B42.19980101.06.7.HDF;3B42.19980...\n",
              "    title:           TRMM (TMPA) L3 Daily 0.25 x 0.25 degree (TRMM_3B42_Daily)\n",
              "    ProductionTime:  2016-07-20T13:48:20.000Z\n",
              "    NCO:             netCDF Operators version 4.9.3 (Homepage = http://nco.sf...\n",
              "    history:         Wed Feb 10 11:00:48 2021: ncatted -a long_name,time,o,c,...>"
            ]
          },
          "metadata": {},
          "execution_count": 43
        }
      ]
    },
    {
      "cell_type": "code",
      "source": [
        "ds.var"
      ],
      "metadata": {
        "colab": {
          "base_uri": "https://localhost:8080/"
        },
        "id": "iiUlccFKkSiB",
        "outputId": "47af0c8d-5377-4f17-9e7f-bd70d323782f"
      },
      "execution_count": null,
      "outputs": [
        {
          "output_type": "execute_result",
          "data": {
            "text/plain": [
              "<bound method ImplementsDatasetReduce._reduce_method.<locals>.wrapped_func of <xarray.Dataset>\n",
              "Dimensions:            (lat: 201, lon: 161, time: 7670)\n",
              "Coordinates:\n",
              "  * time               (time) datetime64[ns] 1998-01-01 ... 2018-12-31\n",
              "  * lon                (lon) float32 60.12 60.38 60.62 ... 99.62 99.88 100.1\n",
              "  * lat                (lat) float32 -10.12 -9.875 -9.625 ... 39.38 39.62 39.88\n",
              "Data variables:\n",
              "    precipitation      (time, lon, lat) float32 dask.array<chunksize=(365, 161, 201), meta=np.ndarray>\n",
              "    precipitation_cnt  (time, lon, lat) int16 dask.array<chunksize=(365, 161, 201), meta=np.ndarray>\n",
              "    randomError        (time, lon, lat) float32 dask.array<chunksize=(365, 161, 201), meta=np.ndarray>\n",
              "    randomError_cnt    (time, lon, lat) int16 dask.array<chunksize=(365, 161, 201), meta=np.ndarray>\n",
              "Attributes:\n",
              "    BeginDate:       1998-01-01\n",
              "    BeginTime:       01:30:00.000Z\n",
              "    EndDate:         1998-01-02\n",
              "    EndTime:         01:29:59.999Z\n",
              "    FileHeader:      StartGranuleDateTime=1998-01-01T01:30:00.000Z;\\012StopGr...\n",
              "    InputPointer:    3B42.19980101.03.7.HDF;3B42.19980101.06.7.HDF;3B42.19980...\n",
              "    title:           TRMM (TMPA) L3 Daily 0.25 x 0.25 degree (TRMM_3B42_Daily)\n",
              "    ProductionTime:  2016-07-20T13:48:20.000Z\n",
              "    NCO:             netCDF Operators version 4.9.3 (Homepage = http://nco.sf...\n",
              "    history:         Wed Feb 10 11:00:48 2021: ncatted -a long_name,time,o,c,...>"
            ]
          },
          "metadata": {},
          "execution_count": 44
        }
      ]
    },
    {
      "cell_type": "code",
      "source": [
        "ds.dims"
      ],
      "metadata": {
        "colab": {
          "base_uri": "https://localhost:8080/"
        },
        "id": "puWlR62KkkWy",
        "outputId": "b57fad88-867c-4946-c4c4-56ad7e2c0333"
      },
      "execution_count": null,
      "outputs": [
        {
          "output_type": "execute_result",
          "data": {
            "text/plain": [
              "Frozen(SortedKeysDict({'time': 7670, 'lon': 161, 'lat': 201}))"
            ]
          },
          "metadata": {},
          "execution_count": 45
        }
      ]
    },
    {
      "cell_type": "code",
      "source": [
        "ds.attrs"
      ],
      "metadata": {
        "colab": {
          "base_uri": "https://localhost:8080/"
        },
        "id": "afSTEtCxktXV",
        "outputId": "ce9d3a4f-2ec2-4292-d9f3-310585793862"
      },
      "execution_count": null,
      "outputs": [
        {
          "output_type": "execute_result",
          "data": {
            "text/plain": [
              "{'BeginDate': '1998-01-01',\n",
              " 'BeginTime': '01:30:00.000Z',\n",
              " 'EndDate': '1998-01-02',\n",
              " 'EndTime': '01:29:59.999Z',\n",
              " 'FileHeader': 'StartGranuleDateTime=1998-01-01T01:30:00.000Z;\\\\012StopGranuleDateTime=1998-01-02T01:29:59.999Z',\n",
              " 'InputPointer': '3B42.19980101.03.7.HDF;3B42.19980101.06.7.HDF;3B42.19980101.09.7.HDF;3B42.19980101.12.7.HDF;3B42.19980101.15.7.HDF;3B42.19980101.18.7.HDF;3B42.19980101.21.7.HDF;3B42.19980102.00.7.HDF',\n",
              " 'NCO': 'netCDF Operators version 4.9.3 (Homepage = http://nco.sf.net, Code = http://github.com/nco/nco)',\n",
              " 'ProductionTime': '2016-07-20T13:48:20.000Z',\n",
              " 'history': 'Wed Feb 10 11:00:48 2021: ncatted -a long_name,time,o,c,number of days so that 1998-01-01 is 0 ../3B42_Daily_1998_10S-40N--60E-100E.nc4\\nWed Feb 10 11:00:48 2021: ncatted -a units,time,o,c,days since 1998-01-01 ../3B42_Daily_1998_10S-40N--60E-100E.nc4\\nWed Feb 10 10:59:22 2021: ncap2 -O -s time[time]=array(0,1,$time) ../3B42_Daily_1998_10S-40N--60E-100E.nc4 ../3B42_Daily_1998_10S-40N--60E-100E.nc4\\n2021-02-10 00:35:34 GMT Hyrax-1.15.4 https://disc2.gesdisc.eosdis.nasa.gov/opendap/TRMM_L3/TRMM_3B42_Daily.7/1998/01/3B42_Daily.19980101.7.nc4.nc4?precipitation[960:1120][159:359],precipitation_cnt[960:1120][159:359],randomError[960:1120][159:359],randomError_cnt[960:1120][159:359],lon[960:1120],lat[159:359]',\n",
              " 'title': 'TRMM (TMPA) L3 Daily 0.25 x 0.25 degree (TRMM_3B42_Daily)'}"
            ]
          },
          "metadata": {},
          "execution_count": 46
        }
      ]
    },
    {
      "cell_type": "code",
      "source": [
        "ds.sizes"
      ],
      "metadata": {
        "id": "y58M7iRdua3s",
        "outputId": "5587ead2-9543-4d02-f41c-a33f084da2f7",
        "colab": {
          "base_uri": "https://localhost:8080/"
        }
      },
      "execution_count": null,
      "outputs": [
        {
          "output_type": "execute_result",
          "data": {
            "text/plain": [
              "Frozen(SortedKeysDict({'time': 7670, 'lon': 161, 'lat': 201}))"
            ]
          },
          "metadata": {},
          "execution_count": 47
        }
      ]
    },
    {
      "cell_type": "markdown",
      "source": [
        "### Looking at specific variables"
      ],
      "metadata": {
        "id": "W-wnwaeKlNN3"
      }
    },
    {
      "cell_type": "markdown",
      "source": [
        "#### Dropping NaN values from the array\n",
        "Reference : https://xarray.pydata.org/en/stable/generated/xarray.DataArray.dropna.html"
      ],
      "metadata": {
        "id": "AD9t6Pinob_Q"
      }
    },
    {
      "cell_type": "code",
      "source": [
        "### We can drop those entries with NaN values from the list by using the dropna() method\n",
        "### We need to specify the dimension along which we want to look for and drop NaN values\n",
        "### However, there is no single method we can call that will drop NaN across all variables"
      ],
      "metadata": {
        "id": "7DLcG9DZng9k"
      },
      "execution_count": null,
      "outputs": []
    },
    {
      "cell_type": "code",
      "source": [
        "d_precp = ds.precipitation.dropna(dim='time')"
      ],
      "metadata": {
        "id": "zw_IA0AYkuBb"
      },
      "execution_count": null,
      "outputs": []
    },
    {
      "cell_type": "markdown",
      "source": [
        "#### Playing around with the data to find range, min and max"
      ],
      "metadata": {
        "id": "KOxXMw9_OiOP"
      }
    },
    {
      "cell_type": "code",
      "source": [
        "# Finding the maximum and minumum values of the parameters of the data given \n",
        "lat_data = ds[\"precipitation\"]['lat']\n",
        "print(\"min lat value is\", lat_data.values.min(), \"and max lat value is\", lat_data.values.max())\n",
        "\n",
        "lon_data = ds[\"precipitation\"]['lon']\n",
        "print(\"min lon value is\", lon_data.values.min(), \"and max lon value is\", lon_data.values.max())\n",
        "\n",
        "time_data = ds[\"precipitation\"]['time']\n",
        "print(\"time starts at\", time_data.values.min(), \"and ends at\", time_data.values.max())"
      ],
      "metadata": {
        "colab": {
          "base_uri": "https://localhost:8080/"
        },
        "id": "1OOFqaVXON7w",
        "outputId": "ce5dd55a-7632-4422-f758-10e2cc66f273"
      },
      "execution_count": null,
      "outputs": [
        {
          "output_type": "stream",
          "name": "stdout",
          "text": [
            "min lat value is -10.125 and max lat value is 39.875\n",
            "min lon value is 60.125 and max lon value is 100.125\n",
            "time starts at 1998-01-01T00:00:00.000000000 and ends at 2018-12-31T00:00:00.000000000\n"
          ]
        }
      ]
    },
    {
      "cell_type": "code",
      "source": [
        "# Shape of various data parameters\n",
        "print(\"We have\", time_data.values.shape, \"days\")\n",
        "print(\"We have\", lat_data.values.shape, \"lat points\")\n",
        "print(\"We have\", lon_data.values.shape, \"lon points\")"
      ],
      "metadata": {
        "colab": {
          "base_uri": "https://localhost:8080/"
        },
        "id": "nm0yUHxBOg4F",
        "outputId": "711e38cb-3e42-447e-cb41-d1171e0a30cd"
      },
      "execution_count": null,
      "outputs": [
        {
          "output_type": "stream",
          "name": "stdout",
          "text": [
            "We have (7670,) days\n",
            "We have (201,) lat points\n",
            "We have (161,) lon points\n"
          ]
        }
      ]
    },
    {
      "cell_type": "code",
      "source": [
        "# The attrs gives details about the metadata of the dataset we are dealing with\n",
        "ds.attrs[\"title\"]"
      ],
      "metadata": {
        "colab": {
          "base_uri": "https://localhost:8080/",
          "height": 35
        },
        "id": "OsdgXsM2NTv_",
        "outputId": "7eabe4b7-7c9c-4135-c6c4-5cec380b96fc"
      },
      "execution_count": null,
      "outputs": [
        {
          "output_type": "execute_result",
          "data": {
            "text/plain": [
              "'TRMM (TMPA) L3 Daily 0.25 x 0.25 degree (TRMM_3B42_Daily)'"
            ],
            "application/vnd.google.colaboratory.intrinsic+json": {
              "type": "string"
            }
          },
          "metadata": {},
          "execution_count": 61
        }
      ]
    },
    {
      "cell_type": "code",
      "source": [
        "# Extracting data for precipitation for a single location over time\n",
        "latitude = 18.625\n",
        "longitude = 73.875\n",
        "precp_data = ds[\"precipitation\"].sel(lat=latitude, lon=longitude)"
      ],
      "metadata": {
        "id": "RsrqkZcfW5JW"
      },
      "execution_count": null,
      "outputs": []
    },
    {
      "cell_type": "markdown",
      "source": [
        "### Simple plot to look at precipitation data"
      ],
      "metadata": {
        "id": "3OU9-p9Urpmj"
      }
    },
    {
      "cell_type": "code",
      "source": [
        "precp_data[:365].plot.line() # Plots the data for the first year alone\n",
        "# Note this isn't exactly correct as it is shown as cts data whereas in reality\n",
        "# it is discrete data taken over a day\n",
        "\n",
        "# location is somewhere near IISER Pune lol"
      ],
      "metadata": {
        "id": "aMSu2TTjlEmv",
        "colab": {
          "base_uri": "https://localhost:8080/",
          "height": 343
        },
        "outputId": "9317977e-a852-4f79-fb80-d3ab659defb7"
      },
      "execution_count": null,
      "outputs": [
        {
          "output_type": "execute_result",
          "data": {
            "text/plain": [
              "[<matplotlib.lines.Line2D at 0x7fa459f46510>]"
            ]
          },
          "metadata": {},
          "execution_count": 75
        },
        {
          "output_type": "display_data",
          "data": {
            "text/plain": [
              "<Figure size 432x288 with 1 Axes>"
            ],
            "image/png": "[encoded data removed]"
          },
          "metadata": {
            "needs_background": "light"
          }
        }
      ]
    }
  ]
}