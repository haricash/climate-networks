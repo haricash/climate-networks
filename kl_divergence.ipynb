{
 "cells": [
  {
   "cell_type": "code",
   "execution_count": 22,
   "id": "f988f5f5",
   "metadata": {},
   "outputs": [],
   "source": [
    "import numpy as np\n",
    "from scipy.special import rel_entr\n",
    "from scipy.stats import entropy"
   ]
  },
  {
   "cell_type": "code",
   "execution_count": 42,
   "id": "42cd92dd",
   "metadata": {},
   "outputs": [],
   "source": [
    "drought1 = np.loadtxt(\"1982_0.25x0.25_degree.txt\")\n",
    "flood1 = np.loadtxt(\"1983_0.25x0.25_degree.txt\")\n",
    "normal1 = np.loadtxt(\"1984_0.25x0.25_degree.txt\")\n",
    "\n",
    "drought1 = drought1/np.sum(drought1)\n",
    "flood1 = flood1/np.sum(flood1)\n",
    "normal1 = normal1/np.sum(normal1)"
   ]
  },
  {
   "cell_type": "code",
   "execution_count": 76,
   "id": "4343add9",
   "metadata": {},
   "outputs": [],
   "source": [
    "drought2 = np.loadtxt(\"1987_0.25x0.25_degree.txt\")\n",
    "flood2 = np.loadtxt(\"1988_0.25x0.25_degree.txt\")\n",
    "normal2 = np.loadtxt(\"1985_0.25x0.25_degree.txt\")\n",
    "\n",
    "drought2 = drought2/np.sum(drought2)\n",
    "flood2 = flood2/np.sum(flood2)\n",
    "normal2 = normal2/np.sum(normal2)"
   ]
  },
  {
   "cell_type": "code",
   "execution_count": 3,
   "id": "3d918320",
   "metadata": {},
   "outputs": [],
   "source": [
    "normal = normal[normal>0]\n",
    "drought = drought[drought>0]\n",
    "flood = flood[flood>0]"
   ]
  },
  {
   "cell_type": "code",
   "execution_count": 66,
   "id": "6e09d8cb",
   "metadata": {},
   "outputs": [],
   "source": [
    "norm_hist1, norm_bins1 = np.histogram(normal1, bins=np.arange(np.min(normal1), np.max(normal1), step=0.0001), density=True)\n",
    "drut_hist1, drut_bins1 = np.histogram(drought1, bins=np.arange(np.min(drought1), np.max(drought1), step=0.0001), density=True)\n",
    "flud_hist1, flud_bins1 = np.histogram(flood1, bins=np.arange(np.min(flood1), np.max(flood1), step=0.0001), density=True)"
   ]
  },
  {
   "cell_type": "code",
   "execution_count": 77,
   "id": "36251c85",
   "metadata": {},
   "outputs": [],
   "source": [
    "norm_hist2, norm_bins2 = np.histogram(normal2, bins=np.arange(np.min(normal2), np.max(normal2), step=0.0001), density=True)\n",
    "drut_hist2, drut_bins2 = np.histogram(drought2, bins=np.arange(np.min(drought2), np.max(drought2), step=0.0001), density=True)\n",
    "flud_hist2, flud_bins2 = np.histogram(flood2, bins=np.arange(np.min(flood2), np.max(flood2), step=0.0001), density=True)"
   ]
  },
  {
   "cell_type": "code",
   "execution_count": 68,
   "id": "febe1b59",
   "metadata": {},
   "outputs": [],
   "source": [
    "P1 = norm_hist1[:20]\n",
    "Q1 = drut_hist1[:20]\n",
    "R1 = flud_hist1[:20]"
   ]
  },
  {
   "cell_type": "code",
   "execution_count": 78,
   "id": "6a6a8d43",
   "metadata": {},
   "outputs": [],
   "source": [
    "P2 = norm_hist2[:20]\n",
    "Q2 = drut_hist2[:20]\n",
    "R2 = flud_hist2[:20]"
   ]
  },
  {
   "cell_type": "code",
   "execution_count": 70,
   "id": "e45c45d4",
   "metadata": {},
   "outputs": [
    {
     "data": {
      "text/plain": [
       "(27, 25, 22)"
      ]
     },
     "execution_count": 70,
     "metadata": {},
     "output_type": "execute_result"
    }
   ],
   "source": [
    "norm_hist1.size, drut_hist1.size, flud_hist1.size"
   ]
  },
  {
   "cell_type": "code",
   "execution_count": 79,
   "id": "e86d14a5",
   "metadata": {},
   "outputs": [
    {
     "data": {
      "text/plain": [
       "(20, 37, 21)"
      ]
     },
     "execution_count": 79,
     "metadata": {},
     "output_type": "execute_result"
    }
   ],
   "source": [
    "norm_hist2.size, drut_hist2.size, flud_hist2.size"
   ]
  },
  {
   "cell_type": "code",
   "execution_count": 48,
   "id": "69e4c690",
   "metadata": {},
   "outputs": [],
   "source": [
    "# sum(rel_entr(P, Q)), sum(rel_entr(Q, P))\n",
    "# sum(rel_entr(P, R)), sum(rel_entr(R, P))\n",
    "# sum(rel_entr(Q, R)), sum(rel_entr(R, Q))\n",
    "# sum(rel_entr(P,P))"
   ]
  },
  {
   "cell_type": "code",
   "execution_count": null,
   "id": "634f13de",
   "metadata": {},
   "outputs": [],
   "source": [
    "# What is a good way of representing this data? A matrix would be 6x6\n",
    "# and too bulky ig?"
   ]
  },
  {
   "cell_type": "code",
   "execution_count": 84,
   "id": "da61f5ec",
   "metadata": {},
   "outputs": [],
   "source": [
    "a = np.zeros((6,6))\n",
    "years = [R1, Q1, P1, P2, R2, Q2]\n",
    "\n",
    "c = len(years)\n",
    "\n",
    "for i in range(c):\n",
    "    for j in range(c):\n",
    "        a[i][j] = entropy(years[i],years[j])"
   ]
  },
  {
   "cell_type": "code",
   "execution_count": 105,
   "id": "92ae17b6",
   "metadata": {},
   "outputs": [
    {
     "data": {
      "image/png": "[encoded data removed]",
      "text/plain": [
       "<Figure size 432x288 with 2 Axes>"
      ]
     },
     "metadata": {
      "needs_background": "light"
     },
     "output_type": "display_data"
    }
   ],
   "source": [
    "import matplotlib.pyplot as plt\n",
    "%matplotlib inline\n",
    "\n",
    "fig, ax = plt.subplots()\n",
    "\n",
    "grid = ax.imshow(a, cmap=\"Blues\")\n",
    "\n",
    "ax.xaxis.set_ticks([0,1,2,3,4,5])\n",
    "ax.yaxis.set_ticks([0,1,2,3,4,5])\n",
    "\n",
    "ax.set_xticklabels(['drought1', 'excess1', 'normal1', 'normal2', 'drought2', 'excess2'], rotation='vertical')\n",
    "ax.set_yticklabels(['drought1', 'excess1', 'normal1', 'normal2', 'drought2', 'excess2'])\n",
    "fig.colorbar(grid, ax=ax)\n",
    "plt.show()"
   ]
  },
  {
   "cell_type": "code",
   "execution_count": null,
   "id": "f1a429a0",
   "metadata": {},
   "outputs": [],
   "source": []
  }
 ],
 "metadata": {
  "kernelspec": {
   "display_name": "Python 3",
   "language": "python",
   "name": "python3"
  },
  "language_info": {
   "codemirror_mode": {
    "name": "ipython",
    "version": 3
   },
   "file_extension": ".py",
   "mimetype": "text/x-python",
   "name": "python",
   "nbconvert_exporter": "python",
   "pygments_lexer": "ipython3",
   "version": "3.8.13"
  }
 },
 "nbformat": 4,
 "nbformat_minor": 5
}
