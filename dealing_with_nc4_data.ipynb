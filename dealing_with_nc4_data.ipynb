{
  "nbformat": 4,
  "nbformat_minor": 0,
  "metadata": {
    "colab": {
      "name": "dealing-with-nc4-data.ipynb",
      "provenance": [],
      "mount_file_id": "1Jzz5zUkVfvGqoUP7Y2WLRX89m1i3AAA7",
      "authorship_tag": "ABX9TyOQJarnt36YTCj24ktZaNS4",
      "include_colab_link": true
    },
    "kernelspec": {
      "name": "python3",
      "display_name": "Python 3"
    },
    "language_info": {
      "name": "python"
    }
  },
  "cells": [
    {
      "cell_type": "markdown",
      "metadata": {
        "id": "view-in-github",
        "colab_type": "text"
      },
      "source": [
        "<a href=\"https://colab.research.google.com/github/haricash/climate-networks/blob/main/dealing_with_nc4_data.ipynb\" target=\"_parent\"><img src=\"https://colab.research.google.com/assets/colab-badge.svg\" alt=\"Open In Colab\"/></a>"
      ]
    },
    {
      "cell_type": "markdown",
      "source": [
        "# A beginners notebook for studying nc4 data with `xarray`\n",
        "## Work as a part of my Jan 2022 Sem Project\n",
        "Reference link for `xarray` : https://towardsdatascience.com/handling-netcdf-files-using-xarray-for-absolute-beginners-111a8ab4463f"
      ],
      "metadata": {
        "id": "KXctM5CAlxFG"
      }
    },
    {
      "cell_type": "markdown",
      "source": [
        "### Important imports"
      ],
      "metadata": {
        "id": "nI5MSScHlXxA"
      }
    },
    {
      "cell_type": "code",
      "execution_count": null,
      "metadata": {
        "id": "sS2ZLKIUcwU9"
      },
      "outputs": [],
      "source": [
        "import numpy as np\n",
        "import xarray as xr"
      ]
    },
    {
      "cell_type": "code",
      "source": [
        "import matplotlib.pyplot as plt"
      ],
      "metadata": {
        "id": "Jdfa6PGdset-"
      },
      "execution_count": null,
      "outputs": []
    },
    {
      "cell_type": "markdown",
      "source": [
        "### Loading and opening data from the drive"
      ],
      "metadata": {
        "id": "nzJvnxcclbku"
      }
    },
    {
      "cell_type": "code",
      "source": [
        "PATH = '/content/drive/MyDrive/network_project_data/TRMM-ORL-data-to-share/TRMM-rainfall-1998-2018/Copy of 3B42_Daily_*_10S-40N--60E-100E.nc4'"
      ],
      "metadata": {
        "id": "8x37onyMiZin"
      },
      "execution_count": null,
      "outputs": []
    },
    {
      "cell_type": "code",
      "source": [
        "ds = xr.open_mfdataset(PATH)"
      ],
      "metadata": {
        "id": "MEJkSEgLjVkD"
      },
      "execution_count": null,
      "outputs": []
    },
    {
      "cell_type": "markdown",
      "source": [
        "### Different attributes of the data that one can view using `xarray`"
      ],
      "metadata": {
        "id": "GYsYe3Iwlimw"
      }
    },
    {
      "cell_type": "code",
      "source": [
        "ds.coords"
      ],
      "metadata": {
        "colab": {
          "base_uri": "https://localhost:8080/"
        },
        "id": "NJBef0OrjsfA",
        "outputId": "4b227ce6-b2b5-49f2-f415-4a49dbca59b0"
      },
      "execution_count": null,
      "outputs": [
        {
          "output_type": "execute_result",
          "data": {
            "text/plain": [
              "Coordinates:\n",
              "  * time     (time) datetime64[ns] 1998-01-01 1998-01-02 ... 2018-12-31\n",
              "  * lon      (lon) float32 60.12 60.38 60.62 60.88 ... 99.38 99.62 99.88 100.1\n",
              "  * lat      (lat) float32 -10.12 -9.875 -9.625 -9.375 ... 39.38 39.62 39.88"
            ]
          },
          "metadata": {},
          "execution_count": 7
        }
      ]
    },
    {
      "cell_type": "code",
      "source": [
        "ds.values"
      ],
      "metadata": {
        "colab": {
          "base_uri": "https://localhost:8080/"
        },
        "id": "oI4w7n5akJbB",
        "outputId": "506af327-11a0-444c-c002-c9b1b4507a9c"
      },
      "execution_count": null,
      "outputs": [
        {
          "output_type": "execute_result",
          "data": {
            "text/plain": [
              "<bound method Mapping.values of <xarray.Dataset>\n",
              "Dimensions:            (lat: 201, lon: 161, time: 7670)\n",
              "Coordinates:\n",
              "  * time               (time) datetime64[ns] 1998-01-01 ... 2018-12-31\n",
              "  * lon                (lon) float32 60.12 60.38 60.62 ... 99.62 99.88 100.1\n",
              "  * lat                (lat) float32 -10.12 -9.875 -9.625 ... 39.38 39.62 39.88\n",
              "Data variables:\n",
              "    precipitation      (time, lon, lat) float32 dask.array<chunksize=(365, 161, 201), meta=np.ndarray>\n",
              "    precipitation_cnt  (time, lon, lat) int16 dask.array<chunksize=(365, 161, 201), meta=np.ndarray>\n",
              "    randomError        (time, lon, lat) float32 dask.array<chunksize=(365, 161, 201), meta=np.ndarray>\n",
              "    randomError_cnt    (time, lon, lat) int16 dask.array<chunksize=(365, 161, 201), meta=np.ndarray>\n",
              "Attributes:\n",
              "    BeginDate:       1998-01-01\n",
              "    BeginTime:       01:30:00.000Z\n",
              "    EndDate:         1998-01-02\n",
              "    EndTime:         01:29:59.999Z\n",
              "    FileHeader:      StartGranuleDateTime=1998-01-01T01:30:00.000Z;\\012StopGr...\n",
              "    InputPointer:    3B42.19980101.03.7.HDF;3B42.19980101.06.7.HDF;3B42.19980...\n",
              "    title:           TRMM (TMPA) L3 Daily 0.25 x 0.25 degree (TRMM_3B42_Daily)\n",
              "    ProductionTime:  2016-07-20T13:48:20.000Z\n",
              "    NCO:             netCDF Operators version 4.9.3 (Homepage = http://nco.sf...\n",
              "    history:         Wed Feb 10 11:00:48 2021: ncatted -a long_name,time,o,c,...>"
            ]
          },
          "metadata": {},
          "execution_count": 8
        }
      ]
    },
    {
      "cell_type": "code",
      "source": [
        "ds.var"
      ],
      "metadata": {
        "colab": {
          "base_uri": "https://localhost:8080/"
        },
        "id": "iiUlccFKkSiB",
        "outputId": "fc5bd3e5-3cd1-4d2f-9fd2-133936c2e14d"
      },
      "execution_count": null,
      "outputs": [
        {
          "output_type": "execute_result",
          "data": {
            "text/plain": [
              "<bound method ImplementsDatasetReduce._reduce_method.<locals>.wrapped_func of <xarray.Dataset>\n",
              "Dimensions:            (lat: 201, lon: 161, time: 7670)\n",
              "Coordinates:\n",
              "  * time               (time) datetime64[ns] 1998-01-01 ... 2018-12-31\n",
              "  * lon                (lon) float32 60.12 60.38 60.62 ... 99.62 99.88 100.1\n",
              "  * lat                (lat) float32 -10.12 -9.875 -9.625 ... 39.38 39.62 39.88\n",
              "Data variables:\n",
              "    precipitation      (time, lon, lat) float32 dask.array<chunksize=(365, 161, 201), meta=np.ndarray>\n",
              "    precipitation_cnt  (time, lon, lat) int16 dask.array<chunksize=(365, 161, 201), meta=np.ndarray>\n",
              "    randomError        (time, lon, lat) float32 dask.array<chunksize=(365, 161, 201), meta=np.ndarray>\n",
              "    randomError_cnt    (time, lon, lat) int16 dask.array<chunksize=(365, 161, 201), meta=np.ndarray>\n",
              "Attributes:\n",
              "    BeginDate:       1998-01-01\n",
              "    BeginTime:       01:30:00.000Z\n",
              "    EndDate:         1998-01-02\n",
              "    EndTime:         01:29:59.999Z\n",
              "    FileHeader:      StartGranuleDateTime=1998-01-01T01:30:00.000Z;\\012StopGr...\n",
              "    InputPointer:    3B42.19980101.03.7.HDF;3B42.19980101.06.7.HDF;3B42.19980...\n",
              "    title:           TRMM (TMPA) L3 Daily 0.25 x 0.25 degree (TRMM_3B42_Daily)\n",
              "    ProductionTime:  2016-07-20T13:48:20.000Z\n",
              "    NCO:             netCDF Operators version 4.9.3 (Homepage = http://nco.sf...\n",
              "    history:         Wed Feb 10 11:00:48 2021: ncatted -a long_name,time,o,c,...>"
            ]
          },
          "metadata": {},
          "execution_count": 9
        }
      ]
    },
    {
      "cell_type": "code",
      "source": [
        "ds.dims"
      ],
      "metadata": {
        "colab": {
          "base_uri": "https://localhost:8080/"
        },
        "id": "puWlR62KkkWy",
        "outputId": "7f24964d-44f6-4dda-dfd1-1c8e08ec471c"
      },
      "execution_count": null,
      "outputs": [
        {
          "output_type": "execute_result",
          "data": {
            "text/plain": [
              "Frozen(SortedKeysDict({'time': 7670, 'lon': 161, 'lat': 201}))"
            ]
          },
          "metadata": {},
          "execution_count": 10
        }
      ]
    },
    {
      "cell_type": "code",
      "source": [
        "ds.attrs"
      ],
      "metadata": {
        "colab": {
          "base_uri": "https://localhost:8080/"
        },
        "id": "afSTEtCxktXV",
        "outputId": "ac734857-61bc-4e47-c872-c67fbea118d7"
      },
      "execution_count": null,
      "outputs": [
        {
          "output_type": "execute_result",
          "data": {
            "text/plain": [
              "{'BeginDate': '1998-01-01',\n",
              " 'BeginTime': '01:30:00.000Z',\n",
              " 'EndDate': '1998-01-02',\n",
              " 'EndTime': '01:29:59.999Z',\n",
              " 'FileHeader': 'StartGranuleDateTime=1998-01-01T01:30:00.000Z;\\\\012StopGranuleDateTime=1998-01-02T01:29:59.999Z',\n",
              " 'InputPointer': '3B42.19980101.03.7.HDF;3B42.19980101.06.7.HDF;3B42.19980101.09.7.HDF;3B42.19980101.12.7.HDF;3B42.19980101.15.7.HDF;3B42.19980101.18.7.HDF;3B42.19980101.21.7.HDF;3B42.19980102.00.7.HDF',\n",
              " 'NCO': 'netCDF Operators version 4.9.3 (Homepage = http://nco.sf.net, Code = http://github.com/nco/nco)',\n",
              " 'ProductionTime': '2016-07-20T13:48:20.000Z',\n",
              " 'history': 'Wed Feb 10 11:00:48 2021: ncatted -a long_name,time,o,c,number of days so that 1998-01-01 is 0 ../3B42_Daily_1998_10S-40N--60E-100E.nc4\\nWed Feb 10 11:00:48 2021: ncatted -a units,time,o,c,days since 1998-01-01 ../3B42_Daily_1998_10S-40N--60E-100E.nc4\\nWed Feb 10 10:59:22 2021: ncap2 -O -s time[time]=array(0,1,$time) ../3B42_Daily_1998_10S-40N--60E-100E.nc4 ../3B42_Daily_1998_10S-40N--60E-100E.nc4\\n2021-02-10 00:35:34 GMT Hyrax-1.15.4 https://disc2.gesdisc.eosdis.nasa.gov/opendap/TRMM_L3/TRMM_3B42_Daily.7/1998/01/3B42_Daily.19980101.7.nc4.nc4?precipitation[960:1120][159:359],precipitation_cnt[960:1120][159:359],randomError[960:1120][159:359],randomError_cnt[960:1120][159:359],lon[960:1120],lat[159:359]',\n",
              " 'title': 'TRMM (TMPA) L3 Daily 0.25 x 0.25 degree (TRMM_3B42_Daily)'}"
            ]
          },
          "metadata": {},
          "execution_count": 11
        }
      ]
    },
    {
      "cell_type": "code",
      "source": [
        "ds.sizes"
      ],
      "metadata": {
        "id": "y58M7iRdua3s",
        "outputId": "85e77eab-d3f6-48b4-9a17-dea69856bb33",
        "colab": {
          "base_uri": "https://localhost:8080/"
        }
      },
      "execution_count": null,
      "outputs": [
        {
          "output_type": "execute_result",
          "data": {
            "text/plain": [
              "Frozen(SortedKeysDict({'time': 7670, 'lon': 161, 'lat': 201}))"
            ]
          },
          "metadata": {},
          "execution_count": 34
        }
      ]
    },
    {
      "cell_type": "markdown",
      "source": [
        "### Looking at specific variables"
      ],
      "metadata": {
        "id": "W-wnwaeKlNN3"
      }
    },
    {
      "cell_type": "markdown",
      "source": [
        "#### Dropping NaN values from the array\n",
        "Reference : https://xarray.pydata.org/en/stable/generated/xarray.DataArray.dropna.html"
      ],
      "metadata": {
        "id": "AD9t6Pinob_Q"
      }
    },
    {
      "cell_type": "code",
      "source": [
        "### We can drop those entries with NaN values from the list by using the dropna() method\n",
        "### We need to specify the dimension along which we want to look for and drop NaN values\n",
        "### However, there is no single method we can call that will drop NaN across all variables"
      ],
      "metadata": {
        "id": "7DLcG9DZng9k"
      },
      "execution_count": null,
      "outputs": []
    },
    {
      "cell_type": "code",
      "source": [
        "d_precp = ds.precipitation.dropna(dim='time')"
      ],
      "metadata": {
        "id": "zw_IA0AYkuBb"
      },
      "execution_count": null,
      "outputs": []
    },
    {
      "cell_type": "markdown",
      "source": [
        "### Simple plot to look at precipitation data"
      ],
      "metadata": {
        "id": "3OU9-p9Urpmj"
      }
    },
    {
      "cell_type": "code",
      "source": [
        "precipitation_data = ds.precipitation\n",
        "time_data = ds.time"
      ],
      "metadata": {
        "id": "aMSu2TTjlEmv"
      },
      "execution_count": null,
      "outputs": []
    },
    {
      "cell_type": "code",
      "source": [
        "precipitation_data"
      ],
      "metadata": {
        "colab": {
          "base_uri": "https://localhost:8080/",
          "height": 407
        },
        "id": "RvB7IDgit1jK",
        "outputId": "2a560fa3-f4c4-4997-8a91-21f85cbd8f3b"
      },
      "execution_count": null,
      "outputs": [
        {
          "output_type": "execute_result",
          "data": {
            "text/plain": [
              "<xarray.DataArray 'precipitation' (time: 7670, lon: 161, lat: 201)>\n",
              "dask.array<concatenate, shape=(7670, 161, 201), dtype=float32, chunksize=(366, 161, 201), chunktype=numpy.ndarray>\n",
              "Coordinates:\n",
              "  * time     (time) datetime64[ns] 1998-01-01 1998-01-02 ... 2018-12-31\n",
              "  * lon      (lon) float32 60.12 60.38 60.62 60.88 ... 99.38 99.62 99.88 100.1\n",
              "  * lat      (lat) float32 -10.12 -9.875 -9.625 -9.375 ... 39.38 39.62 39.88\n",
              "Attributes:\n",
              "    units:      mm\n",
              "    long_name:  Daily accumulated precipitation (combined microwave-IR) estim..."
            ],
            "text/html": [
              "<div><svg style=\"position: absolute; width: 0; height: 0; overflow: hidden\">\n",
              "<defs>\n",
              "<symbol id=\"icon-database\" viewBox=\"0 0 32 32\">\n",
              "<path d=\"M16 0c-8.837 0-16 2.239-16 5v4c0 2.761 7.163 5 16 5s16-2.239 16-5v-4c0-2.761-7.163-5-16-5z\"></path>\n",
              "<path d=\"M16 17c-8.837 0-16-2.239-16-5v6c0 2.761 7.163 5 16 5s16-2.239 16-5v-6c0 2.761-7.163 5-16 5z\"></path>\n",
              "<path d=\"M16 26c-8.837 0-16-2.239-16-5v6c0 2.761 7.163 5 16 5s16-2.239 16-5v-6c0 2.761-7.163 5-16 5z\"></path>\n",
              "</symbol>\n",
              "<symbol id=\"icon-file-text2\" viewBox=\"0 0 32 32\">\n",
              "<path d=\"M28.681 7.159c-0.694-0.947-1.662-2.053-2.724-3.116s-2.169-2.030-3.116-2.724c-1.612-1.182-2.393-1.319-2.841-1.319h-15.5c-1.378 0-2.5 1.121-2.5 2.5v27c0 1.378 1.122 2.5 2.5 2.5h23c1.378 0 2.5-1.122 2.5-2.5v-19.5c0-0.448-0.137-1.23-1.319-2.841zM24.543 5.457c0.959 0.959 1.712 1.825 2.268 2.543h-4.811v-4.811c0.718 0.556 1.584 1.309 2.543 2.268zM28 29.5c0 0.271-0.229 0.5-0.5 0.5h-23c-0.271 0-0.5-0.229-0.5-0.5v-27c0-0.271 0.229-0.5 0.5-0.5 0 0 15.499-0 15.5 0v7c0 0.552 0.448 1 1 1h7v19.5z\"></path>\n",
              "<path d=\"M23 26h-14c-0.552 0-1-0.448-1-1s0.448-1 1-1h14c0.552 0 1 0.448 1 1s-0.448 1-1 1z\"></path>\n",
              "<path d=\"M23 22h-14c-0.552 0-1-0.448-1-1s0.448-1 1-1h14c0.552 0 1 0.448 1 1s-0.448 1-1 1z\"></path>\n",
              "<path d=\"M23 18h-14c-0.552 0-1-0.448-1-1s0.448-1 1-1h14c0.552 0 1 0.448 1 1s-0.448 1-1 1z\"></path>\n",
              "</symbol>\n",
              "</defs>\n",
              "</svg>\n",
              "<style>/* CSS stylesheet for displaying xarray objects in jupyterlab.\n",
              " *\n",
              " */\n",
              "\n",
              ":root {\n",
              "  --xr-font-color0: var(--jp-content-font-color0, rgba(0, 0, 0, 1));\n",
              "  --xr-font-color2: var(--jp-content-font-color2, rgba(0, 0, 0, 0.54));\n",
              "  --xr-font-color3: var(--jp-content-font-color3, rgba(0, 0, 0, 0.38));\n",
              "  --xr-border-color: var(--jp-border-color2, #e0e0e0);\n",
              "  --xr-disabled-color: var(--jp-layout-color3, #bdbdbd);\n",
              "  --xr-background-color: var(--jp-layout-color0, white);\n",
              "  --xr-background-color-row-even: var(--jp-layout-color1, white);\n",
              "  --xr-background-color-row-odd: var(--jp-layout-color2, #eeeeee);\n",
              "}\n",
              "\n",
              "html[theme=dark],\n",
              "body.vscode-dark {\n",
              "  --xr-font-color0: rgba(255, 255, 255, 1);\n",
              "  --xr-font-color2: rgba(255, 255, 255, 0.54);\n",
              "  --xr-font-color3: rgba(255, 255, 255, 0.38);\n",
              "  --xr-border-color: #1F1F1F;\n",
              "  --xr-disabled-color: #515151;\n",
              "  --xr-background-color: #111111;\n",
              "  --xr-background-color-row-even: #111111;\n",
              "  --xr-background-color-row-odd: #313131;\n",
              "}\n",
              "\n",
              ".xr-wrap {\n",
              "  display: block;\n",
              "  min-width: 300px;\n",
              "  max-width: 700px;\n",
              "}\n",
              "\n",
              ".xr-text-repr-fallback {\n",
              "  /* fallback to plain text repr when CSS is not injected (untrusted notebook) */\n",
              "  display: none;\n",
              "}\n",
              "\n",
              ".xr-header {\n",
              "  padding-top: 6px;\n",
              "  padding-bottom: 6px;\n",
              "  margin-bottom: 4px;\n",
              "  border-bottom: solid 1px var(--xr-border-color);\n",
              "}\n",
              "\n",
              ".xr-header > div,\n",
              ".xr-header > ul {\n",
              "  display: inline;\n",
              "  margin-top: 0;\n",
              "  margin-bottom: 0;\n",
              "}\n",
              "\n",
              ".xr-obj-type,\n",
              ".xr-array-name {\n",
              "  margin-left: 2px;\n",
              "  margin-right: 10px;\n",
              "}\n",
              "\n",
              ".xr-obj-type {\n",
              "  color: var(--xr-font-color2);\n",
              "}\n",
              "\n",
              ".xr-sections {\n",
              "  padding-left: 0 !important;\n",
              "  display: grid;\n",
              "  grid-template-columns: 150px auto auto 1fr 20px 20px;\n",
              "}\n",
              "\n",
              ".xr-section-item {\n",
              "  display: contents;\n",
              "}\n",
              "\n",
              ".xr-section-item input {\n",
              "  display: none;\n",
              "}\n",
              "\n",
              ".xr-section-item input + label {\n",
              "  color: var(--xr-disabled-color);\n",
              "}\n",
              "\n",
              ".xr-section-item input:enabled + label {\n",
              "  cursor: pointer;\n",
              "  color: var(--xr-font-color2);\n",
              "}\n",
              "\n",
              ".xr-section-item input:enabled + label:hover {\n",
              "  color: var(--xr-font-color0);\n",
              "}\n",
              "\n",
              ".xr-section-summary {\n",
              "  grid-column: 1;\n",
              "  color: var(--xr-font-color2);\n",
              "  font-weight: 500;\n",
              "}\n",
              "\n",
              ".xr-section-summary > span {\n",
              "  display: inline-block;\n",
              "  padding-left: 0.5em;\n",
              "}\n",
              "\n",
              ".xr-section-summary-in:disabled + label {\n",
              "  color: var(--xr-font-color2);\n",
              "}\n",
              "\n",
              ".xr-section-summary-in + label:before {\n",
              "  display: inline-block;\n",
              "  content: '►';\n",
              "  font-size: 11px;\n",
              "  width: 15px;\n",
              "  text-align: center;\n",
              "}\n",
              "\n",
              ".xr-section-summary-in:disabled + label:before {\n",
              "  color: var(--xr-disabled-color);\n",
              "}\n",
              "\n",
              ".xr-section-summary-in:checked + label:before {\n",
              "  content: '▼';\n",
              "}\n",
              "\n",
              ".xr-section-summary-in:checked + label > span {\n",
              "  display: none;\n",
              "}\n",
              "\n",
              ".xr-section-summary,\n",
              ".xr-section-inline-details {\n",
              "  padding-top: 4px;\n",
              "  padding-bottom: 4px;\n",
              "}\n",
              "\n",
              ".xr-section-inline-details {\n",
              "  grid-column: 2 / -1;\n",
              "}\n",
              "\n",
              ".xr-section-details {\n",
              "  display: none;\n",
              "  grid-column: 1 / -1;\n",
              "  margin-bottom: 5px;\n",
              "}\n",
              "\n",
              ".xr-section-summary-in:checked ~ .xr-section-details {\n",
              "  display: contents;\n",
              "}\n",
              "\n",
              ".xr-array-wrap {\n",
              "  grid-column: 1 / -1;\n",
              "  display: grid;\n",
              "  grid-template-columns: 20px auto;\n",
              "}\n",
              "\n",
              ".xr-array-wrap > label {\n",
              "  grid-column: 1;\n",
              "  vertical-align: top;\n",
              "}\n",
              "\n",
              ".xr-preview {\n",
              "  color: var(--xr-font-color3);\n",
              "}\n",
              "\n",
              ".xr-array-preview,\n",
              ".xr-array-data {\n",
              "  padding: 0 5px !important;\n",
              "  grid-column: 2;\n",
              "}\n",
              "\n",
              ".xr-array-data,\n",
              ".xr-array-in:checked ~ .xr-array-preview {\n",
              "  display: none;\n",
              "}\n",
              "\n",
              ".xr-array-in:checked ~ .xr-array-data,\n",
              ".xr-array-preview {\n",
              "  display: inline-block;\n",
              "}\n",
              "\n",
              ".xr-dim-list {\n",
              "  display: inline-block !important;\n",
              "  list-style: none;\n",
              "  padding: 0 !important;\n",
              "  margin: 0;\n",
              "}\n",
              "\n",
              ".xr-dim-list li {\n",
              "  display: inline-block;\n",
              "  padding: 0;\n",
              "  margin: 0;\n",
              "}\n",
              "\n",
              ".xr-dim-list:before {\n",
              "  content: '(';\n",
              "}\n",
              "\n",
              ".xr-dim-list:after {\n",
              "  content: ')';\n",
              "}\n",
              "\n",
              ".xr-dim-list li:not(:last-child):after {\n",
              "  content: ',';\n",
              "  padding-right: 5px;\n",
              "}\n",
              "\n",
              ".xr-has-index {\n",
              "  font-weight: bold;\n",
              "}\n",
              "\n",
              ".xr-var-list,\n",
              ".xr-var-item {\n",
              "  display: contents;\n",
              "}\n",
              "\n",
              ".xr-var-item > div,\n",
              ".xr-var-item label,\n",
              ".xr-var-item > .xr-var-name span {\n",
              "  background-color: var(--xr-background-color-row-even);\n",
              "  margin-bottom: 0;\n",
              "}\n",
              "\n",
              ".xr-var-item > .xr-var-name:hover span {\n",
              "  padding-right: 5px;\n",
              "}\n",
              "\n",
              ".xr-var-list > li:nth-child(odd) > div,\n",
              ".xr-var-list > li:nth-child(odd) > label,\n",
              ".xr-var-list > li:nth-child(odd) > .xr-var-name span {\n",
              "  background-color: var(--xr-background-color-row-odd);\n",
              "}\n",
              "\n",
              ".xr-var-name {\n",
              "  grid-column: 1;\n",
              "}\n",
              "\n",
              ".xr-var-dims {\n",
              "  grid-column: 2;\n",
              "}\n",
              "\n",
              ".xr-var-dtype {\n",
              "  grid-column: 3;\n",
              "  text-align: right;\n",
              "  color: var(--xr-font-color2);\n",
              "}\n",
              "\n",
              ".xr-var-preview {\n",
              "  grid-column: 4;\n",
              "}\n",
              "\n",
              ".xr-var-name,\n",
              ".xr-var-dims,\n",
              ".xr-var-dtype,\n",
              ".xr-preview,\n",
              ".xr-attrs dt {\n",
              "  white-space: nowrap;\n",
              "  overflow: hidden;\n",
              "  text-overflow: ellipsis;\n",
              "  padding-right: 10px;\n",
              "}\n",
              "\n",
              ".xr-var-name:hover,\n",
              ".xr-var-dims:hover,\n",
              ".xr-var-dtype:hover,\n",
              ".xr-attrs dt:hover {\n",
              "  overflow: visible;\n",
              "  width: auto;\n",
              "  z-index: 1;\n",
              "}\n",
              "\n",
              ".xr-var-attrs,\n",
              ".xr-var-data {\n",
              "  display: none;\n",
              "  background-color: var(--xr-background-color) !important;\n",
              "  padding-bottom: 5px !important;\n",
              "}\n",
              "\n",
              ".xr-var-attrs-in:checked ~ .xr-var-attrs,\n",
              ".xr-var-data-in:checked ~ .xr-var-data {\n",
              "  display: block;\n",
              "}\n",
              "\n",
              ".xr-var-data > table {\n",
              "  float: right;\n",
              "}\n",
              "\n",
              ".xr-var-name span,\n",
              ".xr-var-data,\n",
              ".xr-attrs {\n",
              "  padding-left: 25px !important;\n",
              "}\n",
              "\n",
              ".xr-attrs,\n",
              ".xr-var-attrs,\n",
              ".xr-var-data {\n",
              "  grid-column: 1 / -1;\n",
              "}\n",
              "\n",
              "dl.xr-attrs {\n",
              "  padding: 0;\n",
              "  margin: 0;\n",
              "  display: grid;\n",
              "  grid-template-columns: 125px auto;\n",
              "}\n",
              "\n",
              ".xr-attrs dt,\n",
              ".xr-attrs dd {\n",
              "  padding: 0;\n",
              "  margin: 0;\n",
              "  float: left;\n",
              "  padding-right: 10px;\n",
              "  width: auto;\n",
              "}\n",
              "\n",
              ".xr-attrs dt {\n",
              "  font-weight: normal;\n",
              "  grid-column: 1;\n",
              "}\n",
              "\n",
              ".xr-attrs dt:hover span {\n",
              "  display: inline-block;\n",
              "  background: var(--xr-background-color);\n",
              "  padding-right: 10px;\n",
              "}\n",
              "\n",
              ".xr-attrs dd {\n",
              "  grid-column: 2;\n",
              "  white-space: pre-wrap;\n",
              "  word-break: break-all;\n",
              "}\n",
              "\n",
              ".xr-icon-database,\n",
              ".xr-icon-file-text2 {\n",
              "  display: inline-block;\n",
              "  vertical-align: middle;\n",
              "  width: 1em;\n",
              "  height: 1.5em !important;\n",
              "  stroke-width: 0;\n",
              "  stroke: currentColor;\n",
              "  fill: currentColor;\n",
              "}\n",
              "</style><pre class='xr-text-repr-fallback'>&lt;xarray.DataArray &#x27;precipitation&#x27; (time: 7670, lon: 161, lat: 201)&gt;\n",
              "dask.array&lt;concatenate, shape=(7670, 161, 201), dtype=float32, chunksize=(366, 161, 201), chunktype=numpy.ndarray&gt;\n",
              "Coordinates:\n",
              "  * time     (time) datetime64[ns] 1998-01-01 1998-01-02 ... 2018-12-31\n",
              "  * lon      (lon) float32 60.12 60.38 60.62 60.88 ... 99.38 99.62 99.88 100.1\n",
              "  * lat      (lat) float32 -10.12 -9.875 -9.625 -9.375 ... 39.38 39.62 39.88\n",
              "Attributes:\n",
              "    units:      mm\n",
              "    long_name:  Daily accumulated precipitation (combined microwave-IR) estim...</pre><div class='xr-wrap' hidden><div class='xr-header'><div class='xr-obj-type'>xarray.DataArray</div><div class='xr-array-name'>'precipitation'</div><ul class='xr-dim-list'><li><span class='xr-has-index'>time</span>: 7670</li><li><span class='xr-has-index'>lon</span>: 161</li><li><span class='xr-has-index'>lat</span>: 201</li></ul></div><ul class='xr-sections'><li class='xr-section-item'><div class='xr-array-wrap'><input id='section-c6b3d676-df07-42ab-89f1-4e74f6073b0f' class='xr-array-in' type='checkbox' checked><label for='section-c6b3d676-df07-42ab-89f1-4e74f6073b0f' title='Show/hide data repr'><svg class='icon xr-icon-database'><use xlink:href='#icon-database'></use></svg></label><div class='xr-array-preview xr-preview'><span>dask.array&lt;chunksize=(365, 161, 201), meta=np.ndarray&gt;</span></div><div class='xr-array-data'><table>\n",
              "<tr>\n",
              "<td>\n",
              "<table>\n",
              "  <thead>\n",
              "    <tr><td> </td><th> Array </th><th> Chunk </th></tr>\n",
              "  </thead>\n",
              "  <tbody>\n",
              "    <tr><th> Bytes </th><td> 992.84 MB </td> <td> 47.38 MB </td></tr>\n",
              "    <tr><th> Shape </th><td> (7670, 161, 201) </td> <td> (366, 161, 201) </td></tr>\n",
              "    <tr><th> Count </th><td> 63 Tasks </td><td> 21 Chunks </td></tr>\n",
              "    <tr><th> Type </th><td> float32 </td><td> numpy.ndarray </td></tr>\n",
              "  </tbody>\n",
              "</table>\n",
              "</td>\n",
              "<td>\n",
              "<svg width=\"161\" height=\"149\" style=\"stroke:rgb(0,0,0);stroke-width:1\" >\n",
              "\n",
              "  <!-- Horizontal lines -->\n",
              "  <line x1=\"10\" y1=\"0\" x2=\"80\" y2=\"70\" style=\"stroke-width:2\" />\n",
              "  <line x1=\"10\" y1=\"29\" x2=\"80\" y2=\"99\" style=\"stroke-width:2\" />\n",
              "\n",
              "  <!-- Vertical lines -->\n",
              "  <line x1=\"10\" y1=\"0\" x2=\"10\" y2=\"29\" style=\"stroke-width:2\" />\n",
              "  <line x1=\"13\" y1=\"3\" x2=\"13\" y2=\"32\" />\n",
              "  <line x1=\"16\" y1=\"6\" x2=\"16\" y2=\"36\" />\n",
              "  <line x1=\"20\" y1=\"10\" x2=\"20\" y2=\"39\" />\n",
              "  <line x1=\"23\" y1=\"13\" x2=\"23\" y2=\"42\" />\n",
              "  <line x1=\"26\" y1=\"16\" x2=\"26\" y2=\"46\" />\n",
              "  <line x1=\"30\" y1=\"20\" x2=\"30\" y2=\"49\" />\n",
              "  <line x1=\"33\" y1=\"23\" x2=\"33\" y2=\"52\" />\n",
              "  <line x1=\"36\" y1=\"26\" x2=\"36\" y2=\"56\" />\n",
              "  <line x1=\"40\" y1=\"30\" x2=\"40\" y2=\"59\" />\n",
              "  <line x1=\"43\" y1=\"33\" x2=\"43\" y2=\"62\" />\n",
              "  <line x1=\"46\" y1=\"36\" x2=\"46\" y2=\"66\" />\n",
              "  <line x1=\"50\" y1=\"40\" x2=\"50\" y2=\"69\" />\n",
              "  <line x1=\"53\" y1=\"43\" x2=\"53\" y2=\"73\" />\n",
              "  <line x1=\"57\" y1=\"47\" x2=\"57\" y2=\"76\" />\n",
              "  <line x1=\"60\" y1=\"50\" x2=\"60\" y2=\"79\" />\n",
              "  <line x1=\"63\" y1=\"53\" x2=\"63\" y2=\"83\" />\n",
              "  <line x1=\"67\" y1=\"57\" x2=\"67\" y2=\"86\" />\n",
              "  <line x1=\"70\" y1=\"60\" x2=\"70\" y2=\"89\" />\n",
              "  <line x1=\"73\" y1=\"63\" x2=\"73\" y2=\"93\" />\n",
              "  <line x1=\"77\" y1=\"67\" x2=\"77\" y2=\"96\" />\n",
              "  <line x1=\"80\" y1=\"70\" x2=\"80\" y2=\"99\" style=\"stroke-width:2\" />\n",
              "\n",
              "  <!-- Colored Rectangle -->\n",
              "  <polygon points=\"10.000000,0.000000 80.588235,70.588235 80.588235,99.892215 10.000000,29.303980\" style=\"fill:#ECB172A0;stroke-width:0\"/>\n",
              "\n",
              "  <!-- Horizontal lines -->\n",
              "  <line x1=\"10\" y1=\"0\" x2=\"40\" y2=\"0\" style=\"stroke-width:2\" />\n",
              "  <line x1=\"13\" y1=\"3\" x2=\"43\" y2=\"3\" />\n",
              "  <line x1=\"16\" y1=\"6\" x2=\"47\" y2=\"6\" />\n",
              "  <line x1=\"20\" y1=\"10\" x2=\"50\" y2=\"10\" />\n",
              "  <line x1=\"23\" y1=\"13\" x2=\"54\" y2=\"13\" />\n",
              "  <line x1=\"26\" y1=\"16\" x2=\"57\" y2=\"16\" />\n",
              "  <line x1=\"30\" y1=\"20\" x2=\"60\" y2=\"20\" />\n",
              "  <line x1=\"33\" y1=\"23\" x2=\"64\" y2=\"23\" />\n",
              "  <line x1=\"36\" y1=\"26\" x2=\"67\" y2=\"26\" />\n",
              "  <line x1=\"40\" y1=\"30\" x2=\"70\" y2=\"30\" />\n",
              "  <line x1=\"43\" y1=\"33\" x2=\"74\" y2=\"33\" />\n",
              "  <line x1=\"46\" y1=\"36\" x2=\"77\" y2=\"36\" />\n",
              "  <line x1=\"50\" y1=\"40\" x2=\"80\" y2=\"40\" />\n",
              "  <line x1=\"53\" y1=\"43\" x2=\"84\" y2=\"43\" />\n",
              "  <line x1=\"57\" y1=\"47\" x2=\"87\" y2=\"47\" />\n",
              "  <line x1=\"60\" y1=\"50\" x2=\"91\" y2=\"50\" />\n",
              "  <line x1=\"63\" y1=\"53\" x2=\"94\" y2=\"53\" />\n",
              "  <line x1=\"67\" y1=\"57\" x2=\"97\" y2=\"57\" />\n",
              "  <line x1=\"70\" y1=\"60\" x2=\"101\" y2=\"60\" />\n",
              "  <line x1=\"73\" y1=\"63\" x2=\"104\" y2=\"63\" />\n",
              "  <line x1=\"77\" y1=\"67\" x2=\"107\" y2=\"67\" />\n",
              "  <line x1=\"80\" y1=\"70\" x2=\"111\" y2=\"70\" style=\"stroke-width:2\" />\n",
              "\n",
              "  <!-- Vertical lines -->\n",
              "  <line x1=\"10\" y1=\"0\" x2=\"80\" y2=\"70\" style=\"stroke-width:2\" />\n",
              "  <line x1=\"40\" y1=\"0\" x2=\"111\" y2=\"70\" style=\"stroke-width:2\" />\n",
              "\n",
              "  <!-- Colored Rectangle -->\n",
              "  <polygon points=\"10.000000,0.000000 40.587704,0.000000 111.175940,70.588235 80.588235,70.588235\" style=\"fill:#ECB172A0;stroke-width:0\"/>\n",
              "\n",
              "  <!-- Horizontal lines -->\n",
              "  <line x1=\"80\" y1=\"70\" x2=\"111\" y2=\"70\" style=\"stroke-width:2\" />\n",
              "  <line x1=\"80\" y1=\"99\" x2=\"111\" y2=\"99\" style=\"stroke-width:2\" />\n",
              "\n",
              "  <!-- Vertical lines -->\n",
              "  <line x1=\"80\" y1=\"70\" x2=\"80\" y2=\"99\" style=\"stroke-width:2\" />\n",
              "  <line x1=\"111\" y1=\"70\" x2=\"111\" y2=\"99\" style=\"stroke-width:2\" />\n",
              "\n",
              "  <!-- Colored Rectangle -->\n",
              "  <polygon points=\"80.588235,70.588235 111.175940,70.588235 111.175940,99.892215 80.588235,99.892215\" style=\"fill:#ECB172A0;stroke-width:0\"/>\n",
              "\n",
              "  <!-- Text -->\n",
              "  <text x=\"95.882088\" y=\"119.892215\" font-size=\"1.0rem\" font-weight=\"100\" text-anchor=\"middle\" >201</text>\n",
              "  <text x=\"131.175940\" y=\"85.240225\" font-size=\"1.0rem\" font-weight=\"100\" text-anchor=\"middle\" transform=\"rotate(-90,131.175940,85.240225)\">161</text>\n",
              "  <text x=\"35.294118\" y=\"84.598098\" font-size=\"1.0rem\" font-weight=\"100\" text-anchor=\"middle\" transform=\"rotate(45,35.294118,84.598098)\">7670</text>\n",
              "</svg>\n",
              "</td>\n",
              "</tr>\n",
              "</table></div></div></li><li class='xr-section-item'><input id='section-83c696c8-2499-460e-b6ef-464dd8f51375' class='xr-section-summary-in' type='checkbox'  checked><label for='section-83c696c8-2499-460e-b6ef-464dd8f51375' class='xr-section-summary' >Coordinates: <span>(3)</span></label><div class='xr-section-inline-details'></div><div class='xr-section-details'><ul class='xr-var-list'><li class='xr-var-item'><div class='xr-var-name'><span class='xr-has-index'>time</span></div><div class='xr-var-dims'>(time)</div><div class='xr-var-dtype'>datetime64[ns]</div><div class='xr-var-preview xr-preview'>1998-01-01 ... 2018-12-31</div><input id='attrs-842226e5-b970-418b-8c4b-636c6a4bfb65' class='xr-var-attrs-in' type='checkbox' ><label for='attrs-842226e5-b970-418b-8c4b-636c6a4bfb65' title='Show/Hide attributes'><svg class='icon xr-icon-file-text2'><use xlink:href='#icon-file-text2'></use></svg></label><input id='data-f33462da-7585-4bd5-a511-7a4e431936b5' class='xr-var-data-in' type='checkbox'><label for='data-f33462da-7585-4bd5-a511-7a4e431936b5' title='Show/Hide data repr'><svg class='icon xr-icon-database'><use xlink:href='#icon-database'></use></svg></label><div class='xr-var-attrs'><dl class='xr-attrs'><dt><span>long_name :</span></dt><dd>number of days so that 1998-01-01 is 0</dd></dl></div><div class='xr-var-data'><pre>array([&#x27;1998-01-01T00:00:00.000000000&#x27;, &#x27;1998-01-02T00:00:00.000000000&#x27;,\n",
              "       &#x27;1998-01-03T00:00:00.000000000&#x27;, ..., &#x27;2018-12-29T00:00:00.000000000&#x27;,\n",
              "       &#x27;2018-12-30T00:00:00.000000000&#x27;, &#x27;2018-12-31T00:00:00.000000000&#x27;],\n",
              "      dtype=&#x27;datetime64[ns]&#x27;)</pre></div></li><li class='xr-var-item'><div class='xr-var-name'><span class='xr-has-index'>lon</span></div><div class='xr-var-dims'>(lon)</div><div class='xr-var-dtype'>float32</div><div class='xr-var-preview xr-preview'>60.12 60.38 60.62 ... 99.88 100.1</div><input id='attrs-0eb7ab4f-925e-430f-8340-09c3138cb0bb' class='xr-var-attrs-in' type='checkbox' ><label for='attrs-0eb7ab4f-925e-430f-8340-09c3138cb0bb' title='Show/Hide attributes'><svg class='icon xr-icon-file-text2'><use xlink:href='#icon-file-text2'></use></svg></label><input id='data-6b836658-1973-488d-a5c1-d330f2b42ecc' class='xr-var-data-in' type='checkbox'><label for='data-6b836658-1973-488d-a5c1-d330f2b42ecc' title='Show/Hide data repr'><svg class='icon xr-icon-database'><use xlink:href='#icon-database'></use></svg></label><div class='xr-var-attrs'><dl class='xr-attrs'><dt><span>units :</span></dt><dd>degrees_east</dd><dt><span>long_name :</span></dt><dd>Longitude</dd></dl></div><div class='xr-var-data'><pre>array([ 60.125,  60.375,  60.625,  60.875,  61.125,  61.375,  61.625,  61.875,\n",
              "        62.125,  62.375,  62.625,  62.875,  63.125,  63.375,  63.625,  63.875,\n",
              "        64.125,  64.375,  64.625,  64.875,  65.125,  65.375,  65.625,  65.875,\n",
              "        66.125,  66.375,  66.625,  66.875,  67.125,  67.375,  67.625,  67.875,\n",
              "        68.125,  68.375,  68.625,  68.875,  69.125,  69.375,  69.625,  69.875,\n",
              "        70.125,  70.375,  70.625,  70.875,  71.125,  71.375,  71.625,  71.875,\n",
              "        72.125,  72.375,  72.625,  72.875,  73.125,  73.375,  73.625,  73.875,\n",
              "        74.125,  74.375,  74.625,  74.875,  75.125,  75.375,  75.625,  75.875,\n",
              "        76.125,  76.375,  76.625,  76.875,  77.125,  77.375,  77.625,  77.875,\n",
              "        78.125,  78.375,  78.625,  78.875,  79.125,  79.375,  79.625,  79.875,\n",
              "        80.125,  80.375,  80.625,  80.875,  81.125,  81.375,  81.625,  81.875,\n",
              "        82.125,  82.375,  82.625,  82.875,  83.125,  83.375,  83.625,  83.875,\n",
              "        84.125,  84.375,  84.625,  84.875,  85.125,  85.375,  85.625,  85.875,\n",
              "        86.125,  86.375,  86.625,  86.875,  87.125,  87.375,  87.625,  87.875,\n",
              "        88.125,  88.375,  88.625,  88.875,  89.125,  89.375,  89.625,  89.875,\n",
              "        90.125,  90.375,  90.625,  90.875,  91.125,  91.375,  91.625,  91.875,\n",
              "        92.125,  92.375,  92.625,  92.875,  93.125,  93.375,  93.625,  93.875,\n",
              "        94.125,  94.375,  94.625,  94.875,  95.125,  95.375,  95.625,  95.875,\n",
              "        96.125,  96.375,  96.625,  96.875,  97.125,  97.375,  97.625,  97.875,\n",
              "        98.125,  98.375,  98.625,  98.875,  99.125,  99.375,  99.625,  99.875,\n",
              "       100.125], dtype=float32)</pre></div></li><li class='xr-var-item'><div class='xr-var-name'><span class='xr-has-index'>lat</span></div><div class='xr-var-dims'>(lat)</div><div class='xr-var-dtype'>float32</div><div class='xr-var-preview xr-preview'>-10.12 -9.875 ... 39.62 39.88</div><input id='attrs-ca65575c-6029-4c49-85fe-9393e7775116' class='xr-var-attrs-in' type='checkbox' ><label for='attrs-ca65575c-6029-4c49-85fe-9393e7775116' title='Show/Hide attributes'><svg class='icon xr-icon-file-text2'><use xlink:href='#icon-file-text2'></use></svg></label><input id='data-96882fba-ec0b-467e-b02a-2bf2d74a2af6' class='xr-var-data-in' type='checkbox'><label for='data-96882fba-ec0b-467e-b02a-2bf2d74a2af6' title='Show/Hide data repr'><svg class='icon xr-icon-database'><use xlink:href='#icon-database'></use></svg></label><div class='xr-var-attrs'><dl class='xr-attrs'><dt><span>units :</span></dt><dd>degrees_north</dd><dt><span>long_name :</span></dt><dd>Latitude</dd></dl></div><div class='xr-var-data'><pre>array([-10.125,  -9.875,  -9.625, ...,  39.375,  39.625,  39.875],\n",
              "      dtype=float32)</pre></div></li></ul></div></li><li class='xr-section-item'><input id='section-f12d92c5-83f3-4911-9120-123eef7467e0' class='xr-section-summary-in' type='checkbox'  checked><label for='section-f12d92c5-83f3-4911-9120-123eef7467e0' class='xr-section-summary' >Attributes: <span>(2)</span></label><div class='xr-section-inline-details'></div><div class='xr-section-details'><dl class='xr-attrs'><dt><span>units :</span></dt><dd>mm</dd><dt><span>long_name :</span></dt><dd>Daily accumulated precipitation (combined microwave-IR) estimate with gauge calibration over land</dd></dl></div></li></ul></div></div>"
            ]
          },
          "metadata": {},
          "execution_count": 33
        }
      ]
    },
    {
      "cell_type": "code",
      "source": [
        "plt.plot(precipitation_data)"
      ],
      "metadata": {
        "colab": {
          "base_uri": "https://localhost:8080/",
          "height": 565
        },
        "id": "eFz4HB8dqY19",
        "outputId": "56c0dea9-f80e-4550-9b6a-2e95580a473b"
      },
      "execution_count": null,
      "outputs": [
        {
          "output_type": "error",
          "ename": "ValueError",
          "evalue": "ignored",
          "traceback": [
            "\u001b[0;31m---------------------------------------------------------------------------\u001b[0m",
            "\u001b[0;31mValueError\u001b[0m                                Traceback (most recent call last)",
            "\u001b[0;32m<ipython-input-32-2f9514665a6b>\u001b[0m in \u001b[0;36m<module>\u001b[0;34m()\u001b[0m\n\u001b[0;32m----> 1\u001b[0;31m \u001b[0mplt\u001b[0m\u001b[0;34m.\u001b[0m\u001b[0mplot\u001b[0m\u001b[0;34m(\u001b[0m\u001b[0mprecipitation_data\u001b[0m\u001b[0;34m)\u001b[0m\u001b[0;34m\u001b[0m\u001b[0;34m\u001b[0m\u001b[0m\n\u001b[0m",
            "\u001b[0;32m/usr/local/lib/python3.7/dist-packages/matplotlib/pyplot.py\u001b[0m in \u001b[0;36mplot\u001b[0;34m(scalex, scaley, data, *args, **kwargs)\u001b[0m\n\u001b[1;32m   2761\u001b[0m     return gca().plot(\n\u001b[1;32m   2762\u001b[0m         *args, scalex=scalex, scaley=scaley, **({\"data\": data} if data\n\u001b[0;32m-> 2763\u001b[0;31m         is not None else {}), **kwargs)\n\u001b[0m\u001b[1;32m   2764\u001b[0m \u001b[0;34m\u001b[0m\u001b[0m\n\u001b[1;32m   2765\u001b[0m \u001b[0;34m\u001b[0m\u001b[0m\n",
            "\u001b[0;32m/usr/local/lib/python3.7/dist-packages/matplotlib/axes/_axes.py\u001b[0m in \u001b[0;36mplot\u001b[0;34m(self, scalex, scaley, data, *args, **kwargs)\u001b[0m\n\u001b[1;32m   1645\u001b[0m         \"\"\"\n\u001b[1;32m   1646\u001b[0m         \u001b[0mkwargs\u001b[0m \u001b[0;34m=\u001b[0m \u001b[0mcbook\u001b[0m\u001b[0;34m.\u001b[0m\u001b[0mnormalize_kwargs\u001b[0m\u001b[0;34m(\u001b[0m\u001b[0mkwargs\u001b[0m\u001b[0;34m,\u001b[0m \u001b[0mmlines\u001b[0m\u001b[0;34m.\u001b[0m\u001b[0mLine2D\u001b[0m\u001b[0;34m)\u001b[0m\u001b[0;34m\u001b[0m\u001b[0;34m\u001b[0m\u001b[0m\n\u001b[0;32m-> 1647\u001b[0;31m         \u001b[0mlines\u001b[0m \u001b[0;34m=\u001b[0m \u001b[0;34m[\u001b[0m\u001b[0;34m*\u001b[0m\u001b[0mself\u001b[0m\u001b[0;34m.\u001b[0m\u001b[0m_get_lines\u001b[0m\u001b[0;34m(\u001b[0m\u001b[0;34m*\u001b[0m\u001b[0margs\u001b[0m\u001b[0;34m,\u001b[0m \u001b[0mdata\u001b[0m\u001b[0;34m=\u001b[0m\u001b[0mdata\u001b[0m\u001b[0;34m,\u001b[0m \u001b[0;34m**\u001b[0m\u001b[0mkwargs\u001b[0m\u001b[0;34m)\u001b[0m\u001b[0;34m]\u001b[0m\u001b[0;34m\u001b[0m\u001b[0;34m\u001b[0m\u001b[0m\n\u001b[0m\u001b[1;32m   1648\u001b[0m         \u001b[0;32mfor\u001b[0m \u001b[0mline\u001b[0m \u001b[0;32min\u001b[0m \u001b[0mlines\u001b[0m\u001b[0;34m:\u001b[0m\u001b[0;34m\u001b[0m\u001b[0;34m\u001b[0m\u001b[0m\n\u001b[1;32m   1649\u001b[0m             \u001b[0mself\u001b[0m\u001b[0;34m.\u001b[0m\u001b[0madd_line\u001b[0m\u001b[0;34m(\u001b[0m\u001b[0mline\u001b[0m\u001b[0;34m)\u001b[0m\u001b[0;34m\u001b[0m\u001b[0;34m\u001b[0m\u001b[0m\n",
            "\u001b[0;32m/usr/local/lib/python3.7/dist-packages/matplotlib/axes/_base.py\u001b[0m in \u001b[0;36m__call__\u001b[0;34m(self, *args, **kwargs)\u001b[0m\n\u001b[1;32m    214\u001b[0m                 \u001b[0mthis\u001b[0m \u001b[0;34m+=\u001b[0m \u001b[0margs\u001b[0m\u001b[0;34m[\u001b[0m\u001b[0;36m0\u001b[0m\u001b[0;34m]\u001b[0m\u001b[0;34m,\u001b[0m\u001b[0;34m\u001b[0m\u001b[0;34m\u001b[0m\u001b[0m\n\u001b[1;32m    215\u001b[0m                 \u001b[0margs\u001b[0m \u001b[0;34m=\u001b[0m \u001b[0margs\u001b[0m\u001b[0;34m[\u001b[0m\u001b[0;36m1\u001b[0m\u001b[0;34m:\u001b[0m\u001b[0;34m]\u001b[0m\u001b[0;34m\u001b[0m\u001b[0;34m\u001b[0m\u001b[0m\n\u001b[0;32m--> 216\u001b[0;31m             \u001b[0;32myield\u001b[0m \u001b[0;32mfrom\u001b[0m \u001b[0mself\u001b[0m\u001b[0;34m.\u001b[0m\u001b[0m_plot_args\u001b[0m\u001b[0;34m(\u001b[0m\u001b[0mthis\u001b[0m\u001b[0;34m,\u001b[0m \u001b[0mkwargs\u001b[0m\u001b[0;34m)\u001b[0m\u001b[0;34m\u001b[0m\u001b[0;34m\u001b[0m\u001b[0m\n\u001b[0m\u001b[1;32m    217\u001b[0m \u001b[0;34m\u001b[0m\u001b[0m\n\u001b[1;32m    218\u001b[0m     \u001b[0;32mdef\u001b[0m \u001b[0mget_next_color\u001b[0m\u001b[0;34m(\u001b[0m\u001b[0mself\u001b[0m\u001b[0;34m)\u001b[0m\u001b[0;34m:\u001b[0m\u001b[0;34m\u001b[0m\u001b[0;34m\u001b[0m\u001b[0m\n",
            "\u001b[0;32m/usr/local/lib/python3.7/dist-packages/matplotlib/axes/_base.py\u001b[0m in \u001b[0;36m_plot_args\u001b[0;34m(self, tup, kwargs)\u001b[0m\n\u001b[1;32m    343\u001b[0m                              f\"have shapes {x.shape} and {y.shape}\")\n\u001b[1;32m    344\u001b[0m         \u001b[0;32mif\u001b[0m \u001b[0mx\u001b[0m\u001b[0;34m.\u001b[0m\u001b[0mndim\u001b[0m \u001b[0;34m>\u001b[0m \u001b[0;36m2\u001b[0m \u001b[0;32mor\u001b[0m \u001b[0my\u001b[0m\u001b[0;34m.\u001b[0m\u001b[0mndim\u001b[0m \u001b[0;34m>\u001b[0m \u001b[0;36m2\u001b[0m\u001b[0;34m:\u001b[0m\u001b[0;34m\u001b[0m\u001b[0;34m\u001b[0m\u001b[0m\n\u001b[0;32m--> 345\u001b[0;31m             raise ValueError(f\"x and y can be no greater than 2-D, but have \"\n\u001b[0m\u001b[1;32m    346\u001b[0m                              f\"shapes {x.shape} and {y.shape}\")\n\u001b[1;32m    347\u001b[0m         \u001b[0;32mif\u001b[0m \u001b[0mx\u001b[0m\u001b[0;34m.\u001b[0m\u001b[0mndim\u001b[0m \u001b[0;34m==\u001b[0m \u001b[0;36m1\u001b[0m\u001b[0;34m:\u001b[0m\u001b[0;34m\u001b[0m\u001b[0;34m\u001b[0m\u001b[0m\n",
            "\u001b[0;31mValueError\u001b[0m: x and y can be no greater than 2-D, but have shapes (7670,) and (7670, 161, 201)"
          ]
        },
        {
          "output_type": "display_data",
          "data": {
            "text/plain": [
              "<Figure size 432x288 with 1 Axes>"
            ],
            "image/png": "[encoded data removed]"
          },
          "metadata": {
            "needs_background": "light"
          }
        }
      ]
    },
    {
      "cell_type": "code",
      "source": [
        ""
      ],
      "metadata": {
        "id": "49MCpPEVsnoj"
      },
      "execution_count": null,
      "outputs": []
    }
  ]
}